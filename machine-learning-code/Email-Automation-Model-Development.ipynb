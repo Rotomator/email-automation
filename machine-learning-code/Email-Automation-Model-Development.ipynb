{
 "cells": [
  {
   "cell_type": "code",
   "execution_count": 1,
   "metadata": {},
   "outputs": [],
   "source": [
    "import pandas as pd\n",
    "import numpy as np\n",
    "import nltk"
   ]
  },
  {
   "cell_type": "code",
   "execution_count": 2,
   "metadata": {},
   "outputs": [],
   "source": [
    "# importing Natural Language Toolkit \n",
    "from nltk.corpus import stopwords\n",
    "from sklearn.feature_extraction.text import TfidfVectorizer\n",
    "from sklearn.feature_extraction.text import CountVectorizer"
   ]
  },
  {
   "cell_type": "code",
   "execution_count": 3,
   "metadata": {},
   "outputs": [],
   "source": [
    "import seaborn as sns\n",
    "import matplotlib.pyplot as plt\n",
    "\n",
    "%matplotlib inline"
   ]
  },
  {
   "cell_type": "code",
   "execution_count": 4,
   "metadata": {},
   "outputs": [],
   "source": [
    "pd.options.mode.chained_assignment = None"
   ]
  },
  {
   "cell_type": "code",
   "execution_count": 5,
   "metadata": {},
   "outputs": [],
   "source": [
    "data = pd.read_csv(\"../../../Data/consumer-reviews-of-amazon-products/Complete.csv\",low_memory=False)"
   ]
  },
  {
   "cell_type": "code",
   "execution_count": 6,
   "metadata": {},
   "outputs": [],
   "source": [
    "data =  data[['brand','categories','manufacturer','reviews.username','reviews.title','reviews.text','reviews.numHelpful',\n",
    "                   'reviews.rating']]"
   ]
  },
  {
   "cell_type": "code",
   "execution_count": 7,
   "metadata": {},
   "outputs": [
    {
     "data": {
      "text/html": [
       "<div>\n",
       "<style scoped>\n",
       "    .dataframe tbody tr th:only-of-type {\n",
       "        vertical-align: middle;\n",
       "    }\n",
       "\n",
       "    .dataframe tbody tr th {\n",
       "        vertical-align: top;\n",
       "    }\n",
       "\n",
       "    .dataframe thead th {\n",
       "        text-align: right;\n",
       "    }\n",
       "</style>\n",
       "<table border=\"1\" class=\"dataframe\">\n",
       "  <thead>\n",
       "    <tr style=\"text-align: right;\">\n",
       "      <th></th>\n",
       "      <th>brand</th>\n",
       "      <th>categories</th>\n",
       "      <th>manufacturer</th>\n",
       "      <th>reviews.username</th>\n",
       "      <th>reviews.title</th>\n",
       "      <th>reviews.text</th>\n",
       "      <th>reviews.numHelpful</th>\n",
       "      <th>reviews.rating</th>\n",
       "    </tr>\n",
       "  </thead>\n",
       "  <tbody>\n",
       "    <tr>\n",
       "      <th>0</th>\n",
       "      <td>Amazon</td>\n",
       "      <td>Electronics,iPad &amp; Tablets,All Tablets,Fire Ta...</td>\n",
       "      <td>Amazon</td>\n",
       "      <td>Adapter</td>\n",
       "      <td>Kindle</td>\n",
       "      <td>This product so far has not disappointed. My c...</td>\n",
       "      <td>0.0</td>\n",
       "      <td>5.0</td>\n",
       "    </tr>\n",
       "    <tr>\n",
       "      <th>1</th>\n",
       "      <td>Amazon</td>\n",
       "      <td>Electronics,iPad &amp; Tablets,All Tablets,Fire Ta...</td>\n",
       "      <td>Amazon</td>\n",
       "      <td>truman</td>\n",
       "      <td>very fast</td>\n",
       "      <td>great for beginner or experienced person. Boug...</td>\n",
       "      <td>0.0</td>\n",
       "      <td>5.0</td>\n",
       "    </tr>\n",
       "    <tr>\n",
       "      <th>2</th>\n",
       "      <td>Amazon</td>\n",
       "      <td>Electronics,iPad &amp; Tablets,All Tablets,Fire Ta...</td>\n",
       "      <td>Amazon</td>\n",
       "      <td>DaveZ</td>\n",
       "      <td>Beginner tablet for our 9 year old son.</td>\n",
       "      <td>Inexpensive tablet for him to use and learn on...</td>\n",
       "      <td>0.0</td>\n",
       "      <td>5.0</td>\n",
       "    </tr>\n",
       "    <tr>\n",
       "      <th>3</th>\n",
       "      <td>Amazon</td>\n",
       "      <td>Electronics,iPad &amp; Tablets,All Tablets,Fire Ta...</td>\n",
       "      <td>Amazon</td>\n",
       "      <td>Shacks</td>\n",
       "      <td>Good!!!</td>\n",
       "      <td>I've had my Fire HD 8 two weeks now and I love...</td>\n",
       "      <td>0.0</td>\n",
       "      <td>4.0</td>\n",
       "    </tr>\n",
       "    <tr>\n",
       "      <th>4</th>\n",
       "      <td>Amazon</td>\n",
       "      <td>Electronics,iPad &amp; Tablets,All Tablets,Fire Ta...</td>\n",
       "      <td>Amazon</td>\n",
       "      <td>explore42</td>\n",
       "      <td>Fantastic Tablet for kids</td>\n",
       "      <td>I bought this for my grand daughter when she c...</td>\n",
       "      <td>0.0</td>\n",
       "      <td>5.0</td>\n",
       "    </tr>\n",
       "  </tbody>\n",
       "</table>\n",
       "</div>"
      ],
      "text/plain": [
       "    brand                                         categories manufacturer  \\\n",
       "0  Amazon  Electronics,iPad & Tablets,All Tablets,Fire Ta...       Amazon   \n",
       "1  Amazon  Electronics,iPad & Tablets,All Tablets,Fire Ta...       Amazon   \n",
       "2  Amazon  Electronics,iPad & Tablets,All Tablets,Fire Ta...       Amazon   \n",
       "3  Amazon  Electronics,iPad & Tablets,All Tablets,Fire Ta...       Amazon   \n",
       "4  Amazon  Electronics,iPad & Tablets,All Tablets,Fire Ta...       Amazon   \n",
       "\n",
       "  reviews.username                            reviews.title  \\\n",
       "0          Adapter                                   Kindle   \n",
       "1           truman                                very fast   \n",
       "2            DaveZ  Beginner tablet for our 9 year old son.   \n",
       "3           Shacks                                  Good!!!   \n",
       "4        explore42                Fantastic Tablet for kids   \n",
       "\n",
       "                                        reviews.text  reviews.numHelpful  \\\n",
       "0  This product so far has not disappointed. My c...                 0.0   \n",
       "1  great for beginner or experienced person. Boug...                 0.0   \n",
       "2  Inexpensive tablet for him to use and learn on...                 0.0   \n",
       "3  I've had my Fire HD 8 two weeks now and I love...                 0.0   \n",
       "4  I bought this for my grand daughter when she c...                 0.0   \n",
       "\n",
       "   reviews.rating  \n",
       "0             5.0  \n",
       "1             5.0  \n",
       "2             5.0  \n",
       "3             4.0  \n",
       "4             5.0  "
      ]
     },
     "execution_count": 7,
     "metadata": {},
     "output_type": "execute_result"
    }
   ],
   "source": [
    "data.head()"
   ]
  },
  {
   "cell_type": "code",
   "execution_count": 8,
   "metadata": {},
   "outputs": [],
   "source": [
    "data['reviews.clean'] = data['reviews.text'].str.replace('\\d+', '')\n",
    "data = data.dropna()"
   ]
  },
  {
   "cell_type": "code",
   "execution_count": 9,
   "metadata": {},
   "outputs": [],
   "source": [
    "from nltk.corpus import stopwords\n",
    "stopset = set(stopwords.words(\"english\"))\n",
    "vectorizer = TfidfVectorizer(stop_words=stopset,binary=True)"
   ]
  },
  {
   "cell_type": "code",
   "execution_count": 10,
   "metadata": {},
   "outputs": [],
   "source": [
    "X = vectorizer.fit_transform(data['reviews.clean'])\n",
    "y = data['reviews.rating'].map({1.0:0,2.0:0,3.0:0,4.0:1,5.0:1})"
   ]
  },
  {
   "cell_type": "code",
   "execution_count": 11,
   "metadata": {},
   "outputs": [],
   "source": [
    "from sklearn.model_selection import train_test_split\n",
    "X_train, X_test, y_train, y_test = train_test_split(X, y, test_size=0.20, train_size=0.80, random_state=42)"
   ]
  },
  {
   "cell_type": "code",
   "execution_count": 12,
   "metadata": {},
   "outputs": [
    {
     "name": "stdout",
     "output_type": "stream",
     "text": [
      "0.9657471961200363\n"
     ]
    }
   ],
   "source": [
    "# Import the models from sklearn\n",
    "from sklearn.naive_bayes import MultinomialNB\n",
    "from sklearn.metrics import f1_score\n",
    "\n",
    "# Initialize the three models\n",
    "model = MultinomialNB(alpha=1.0,fit_prior=True)\n",
    "\n",
    "model.fit(X_train,y_train)\n",
    "print(f1_score(y_test,model.predict(X_test)))"
   ]
  },
  {
   "cell_type": "code",
   "execution_count": 13,
   "metadata": {},
   "outputs": [],
   "source": [
    "import pickle\n",
    "from sklearn.externals import joblib\n",
    "\n",
    "# save vertorizer information\n",
    "with open('TfidfVectorizerModel.pkl','wb') as TfidfVectorizerModel:\n",
    "    pickle.dump(vectorizer.vocabulary_, TfidfVectorizerModel)\n",
    "\n",
    "# save trained model\n",
    "with open('MultinomialNBModel.pkl','wb') as MultinomialNBModel:\n",
    "    joblib.dump(model, MultinomialNBModel)"
   ]
  },
  {
   "cell_type": "code",
   "execution_count": 28,
   "metadata": {},
   "outputs": [
    {
     "name": "stdout",
     "output_type": "stream",
     "text": [
      "Overwriting score.py\n"
     ]
    }
   ],
   "source": [
    "%%writefile score.py\n",
    "import json, os, pickle\n",
    "from sklearn.externals import joblib\n",
    "from sklearn.feature_extraction.text import CountVectorizer, TfidfTransformer\n",
    "\n",
    "vocab =  pickle.load(open('TfidfVectorizerModel.pkl', 'rb'))\n",
    "model = joblib.load(open('MultinomialNBModel.pkl','rb'))\n",
    "\n",
    "transformer = TfidfTransformer()\n",
    "trainedVectorizer = CountVectorizer(decode_error='replace',vocabulary=vocab)\n",
    "\n",
    "def run(raw_data):\n",
    "    vectorString  = trainedVectorizer.fit_transform([str(data)])\n",
    "    transformedString = transformer.fit_transform(vectorString)\n",
    "    y_hat = model.predict(transformedString)\n",
    "    return(str(y_hat))"
   ]
  },
  {
   "cell_type": "code",
   "execution_count": null,
   "metadata": {},
   "outputs": [],
   "source": []
  }
 ],
 "metadata": {
  "kernelspec": {
   "display_name": "Python 3",
   "language": "python",
   "name": "python3"
  },
  "language_info": {
   "codemirror_mode": {
    "name": "ipython",
    "version": 3
   },
   "file_extension": ".py",
   "mimetype": "text/x-python",
   "name": "python",
   "nbconvert_exporter": "python",
   "pygments_lexer": "ipython3",
   "version": "3.6.5"
  }
 },
 "nbformat": 4,
 "nbformat_minor": 2
}
